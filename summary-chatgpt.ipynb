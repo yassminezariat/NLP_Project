{
 "cells": [
  {
   "cell_type": "code",
   "execution_count": 1,
   "metadata": {
    "id": "J1J5hLk1tCj0"
   },
   "outputs": [],
   "source": [
    "import requests\n",
    "from bs4 import BeautifulSoup\n",
    "import os\n",
    "\n",
    "# Create a folder to save the downloaded files\n",
    "if not os.path.exists('pdf_files'):\n",
    "    os.makedirs('pdf_files')\n",
    "\n",
    "for page in range(41, 61):\n",
    "    url = f'https://freekidsbooks.org/page/{page}/'\n",
    "    response = requests.get(url)\n",
    "    soup = BeautifulSoup(response.content, 'html.parser')\n",
    "\n",
    "    book_links = soup.find_all('a', class_='download-book my-post-like')\n",
    "    for link in book_links:\n",
    "        pdf_url = link.get('href')\n",
    "        if pdf_url.endswith('.pdf'):\n",
    "            filename = pdf_url.split('/')[-1]  # Extract the filename from the URL\n",
    "            filepath = f'pdf_files/{filename}'\n",
    "\n",
    "            # Download the PDF file and save it to the specified file path\n",
    "            response = requests.get(pdf_url)\n",
    "            with open(filepath, 'wb') as f:\n",
    "                f.write(response.content)"
   ]
  },
  {
   "cell_type": "code",
   "execution_count": 14,
   "metadata": {
    "colab": {
     "base_uri": "https://localhost:8080/"
    },
    "id": "WpRgpxnztSeA",
    "outputId": "b4de56e6-83e9-4382-d121-08f7c88503e7"
   },
   "outputs": [
    {
     "name": "stdout",
     "output_type": "stream",
     "text": [
      "Le dossier contient 308 fichiers.\n"
     ]
    }
   ],
   "source": [
    "import os\n",
    "\n",
    "path = \"pdf_files\" \n",
    "num_files = len([f for f in os.listdir(path) if os.path.isfile(os.path.join(path, f))])\n",
    "\n",
    "print(\"Le dossier contient\", num_files, \"fichiers.\")"
   ]
  },
  {
   "cell_type": "code",
   "execution_count": 5,
   "metadata": {
    "colab": {
     "base_uri": "https://localhost:8080/"
    },
    "id": "wNMjZzFhl2YU",
    "outputId": "691c147b-132b-4bec-e823-67b13265debb"
   },
   "outputs": [
    {
     "name": "stdout",
     "output_type": "stream",
     "text": [
      "Looking in indexes: https://pypi.org/simple, https://us-python.pkg.dev/colab-wheels/public/simple/\n",
      "\n",
      "Collecting PyPDF2\n",
      "\n",
      "  Downloading pypdf2-3.0.1-py3-none-any.whl (232 kB)\n",
      "\n",
      "\u001b[2K     \u001b[90m━━━━━━━━━━━━━━━━━━━━━━━━━━━━━━━━━━━━━━━\u001b[0m \u001b[32m232.6/232.6 kB\u001b[0m \u001b[31m5.8 MB/s\u001b[0m eta \u001b[36m0:00:00\u001b[0m\n",
      "\n",
      "\u001b[?25hInstalling collected packages: PyPDF2\n",
      "\n",
      "Successfully installed PyPDF2-3.0.1\n"
     ]
    }
   ],
   "source": [
    "!pip install PyPDF2"
   ]
  },
  {
   "cell_type": "code",
   "execution_count": 18,
   "metadata": {
    "colab": {
     "base_uri": "https://localhost:8080/",
     "height": 380
    },
    "id": "UP138RxJFXhm",
    "outputId": "22db2481-ee27-4cdf-81f2-3f960f4f5840"
   },
   "outputs": [
    {
     "ename": "KeyboardInterrupt",
     "evalue": "ignored",
     "output_type": "error",
     "traceback": [
      "\u001b[0;31m---------------------------------------------------------------------------\u001b[0m",
      "\u001b[0;31mKeyboardInterrupt\u001b[0m                         Traceback (most recent call last)",
      "\u001b[0;32m<ipython-input-18-9e06a0360830>\u001b[0m in \u001b[0;36m<cell line: 38>\u001b[0;34m()\u001b[0m\n\u001b[1;32m     52\u001b[0m                 \u001b[0;32mfor\u001b[0m \u001b[0mpage_num\u001b[0m \u001b[0;32min\u001b[0m \u001b[0mrange\u001b[0m\u001b[0;34m(\u001b[0m\u001b[0;36m1\u001b[0m\u001b[0;34m,\u001b[0m \u001b[0mlen\u001b[0m\u001b[0;34m(\u001b[0m\u001b[0mpdf_reader\u001b[0m\u001b[0;34m.\u001b[0m\u001b[0mpages\u001b[0m\u001b[0;34m)\u001b[0m\u001b[0;34m)\u001b[0m\u001b[0;34m:\u001b[0m\u001b[0;34m\u001b[0m\u001b[0;34m\u001b[0m\u001b[0m\n\u001b[1;32m     53\u001b[0m                     \u001b[0mpage\u001b[0m \u001b[0;34m=\u001b[0m \u001b[0mpdf_reader\u001b[0m\u001b[0;34m.\u001b[0m\u001b[0mpages\u001b[0m\u001b[0;34m[\u001b[0m\u001b[0mpage_num\u001b[0m\u001b[0;34m]\u001b[0m\u001b[0;34m\u001b[0m\u001b[0;34m\u001b[0m\u001b[0m\n\u001b[0;32m---> 54\u001b[0;31m                     \u001b[0mpage_text\u001b[0m \u001b[0;34m=\u001b[0m \u001b[0mpage\u001b[0m\u001b[0;34m.\u001b[0m\u001b[0mextract_text\u001b[0m\u001b[0;34m(\u001b[0m\u001b[0;34m)\u001b[0m\u001b[0;34m.\u001b[0m\u001b[0mreplace\u001b[0m\u001b[0;34m(\u001b[0m\u001b[0;34m'\\n'\u001b[0m\u001b[0;34m,\u001b[0m \u001b[0;34m' '\u001b[0m\u001b[0;34m)\u001b[0m\u001b[0;34m\u001b[0m\u001b[0;34m\u001b[0m\u001b[0m\n\u001b[0m\u001b[1;32m     55\u001b[0m \u001b[0;34m\u001b[0m\u001b[0m\n\u001b[1;32m     56\u001b[0m                     \u001b[0;31m# Remove the header if it exists\u001b[0m\u001b[0;34m\u001b[0m\u001b[0;34m\u001b[0m\u001b[0m\n",
      "\u001b[0;32m/usr/local/lib/python3.10/dist-packages/PyPDF2/_page.py\u001b[0m in \u001b[0;36mextract_text\u001b[0;34m(self, Tj_sep, TJ_sep, orientations, space_width, visitor_operand_before, visitor_operand_after, visitor_text, *args)\u001b[0m\n\u001b[1;32m   1849\u001b[0m             \u001b[0morientations\u001b[0m \u001b[0;34m=\u001b[0m \u001b[0;34m(\u001b[0m\u001b[0morientations\u001b[0m\u001b[0;34m,\u001b[0m\u001b[0;34m)\u001b[0m\u001b[0;34m\u001b[0m\u001b[0;34m\u001b[0m\u001b[0m\n\u001b[1;32m   1850\u001b[0m \u001b[0;34m\u001b[0m\u001b[0m\n\u001b[0;32m-> 1851\u001b[0;31m         return self._extract_text(\n\u001b[0m\u001b[1;32m   1852\u001b[0m             \u001b[0mself\u001b[0m\u001b[0;34m,\u001b[0m\u001b[0;34m\u001b[0m\u001b[0;34m\u001b[0m\u001b[0m\n\u001b[1;32m   1853\u001b[0m             \u001b[0mself\u001b[0m\u001b[0;34m.\u001b[0m\u001b[0mpdf\u001b[0m\u001b[0;34m,\u001b[0m\u001b[0;34m\u001b[0m\u001b[0;34m\u001b[0m\u001b[0m\n",
      "\u001b[0;32m/usr/local/lib/python3.10/dist-packages/PyPDF2/_page.py\u001b[0m in \u001b[0;36m_extract_text\u001b[0;34m(self, obj, pdf, orientations, space_width, content_key, visitor_operand_before, visitor_operand_after, visitor_text)\u001b[0m\n\u001b[1;32m   1354\u001b[0m             )\n\u001b[1;32m   1355\u001b[0m             \u001b[0;32mif\u001b[0m \u001b[0;32mnot\u001b[0m \u001b[0misinstance\u001b[0m\u001b[0;34m(\u001b[0m\u001b[0mcontent\u001b[0m\u001b[0;34m,\u001b[0m \u001b[0mContentStream\u001b[0m\u001b[0;34m)\u001b[0m\u001b[0;34m:\u001b[0m\u001b[0;34m\u001b[0m\u001b[0;34m\u001b[0m\u001b[0m\n\u001b[0;32m-> 1356\u001b[0;31m                 \u001b[0mcontent\u001b[0m \u001b[0;34m=\u001b[0m \u001b[0mContentStream\u001b[0m\u001b[0;34m(\u001b[0m\u001b[0mcontent\u001b[0m\u001b[0;34m,\u001b[0m \u001b[0mpdf\u001b[0m\u001b[0;34m,\u001b[0m \u001b[0;34m\"bytes\"\u001b[0m\u001b[0;34m)\u001b[0m\u001b[0;34m\u001b[0m\u001b[0;34m\u001b[0m\u001b[0m\n\u001b[0m\u001b[1;32m   1357\u001b[0m         \u001b[0;32mexcept\u001b[0m \u001b[0mKeyError\u001b[0m\u001b[0;34m:\u001b[0m  \u001b[0;31m# it means no content can be extracted(certainly empty page)\u001b[0m\u001b[0;34m\u001b[0m\u001b[0;34m\u001b[0m\u001b[0m\n\u001b[1;32m   1358\u001b[0m             \u001b[0;32mreturn\u001b[0m \u001b[0;34m\"\"\u001b[0m\u001b[0;34m\u001b[0m\u001b[0;34m\u001b[0m\u001b[0m\n",
      "\u001b[0;32m/usr/local/lib/python3.10/dist-packages/PyPDF2/generic/_data_structures.py\u001b[0m in \u001b[0;36m__init__\u001b[0;34m(self, stream, pdf, forced_encoding)\u001b[0m\n\u001b[1;32m    875\u001b[0m                 \u001b[0mstream_bytes\u001b[0m \u001b[0;34m=\u001b[0m \u001b[0mBytesIO\u001b[0m\u001b[0;34m(\u001b[0m\u001b[0mstream_data_bytes\u001b[0m\u001b[0;34m)\u001b[0m\u001b[0;34m\u001b[0m\u001b[0;34m\u001b[0m\u001b[0m\n\u001b[1;32m    876\u001b[0m             \u001b[0mself\u001b[0m\u001b[0;34m.\u001b[0m\u001b[0mforced_encoding\u001b[0m \u001b[0;34m=\u001b[0m \u001b[0mforced_encoding\u001b[0m\u001b[0;34m\u001b[0m\u001b[0;34m\u001b[0m\u001b[0m\n\u001b[0;32m--> 877\u001b[0;31m             \u001b[0mself\u001b[0m\u001b[0;34m.\u001b[0m\u001b[0m__parse_content_stream\u001b[0m\u001b[0;34m(\u001b[0m\u001b[0mstream_bytes\u001b[0m\u001b[0;34m)\u001b[0m\u001b[0;34m\u001b[0m\u001b[0;34m\u001b[0m\u001b[0m\n\u001b[0m\u001b[1;32m    878\u001b[0m \u001b[0;34m\u001b[0m\u001b[0m\n\u001b[1;32m    879\u001b[0m     def clone(\n",
      "\u001b[0;32m/usr/local/lib/python3.10/dist-packages/PyPDF2/generic/_data_structures.py\u001b[0m in \u001b[0;36m__parse_content_stream\u001b[0;34m(self, stream)\u001b[0m\n\u001b[1;32m    918\u001b[0m         \u001b[0;32mwhile\u001b[0m \u001b[0;32mTrue\u001b[0m\u001b[0;34m:\u001b[0m\u001b[0;34m\u001b[0m\u001b[0;34m\u001b[0m\u001b[0m\n\u001b[1;32m    919\u001b[0m             \u001b[0mpeek\u001b[0m \u001b[0;34m=\u001b[0m \u001b[0mread_non_whitespace\u001b[0m\u001b[0;34m(\u001b[0m\u001b[0mstream\u001b[0m\u001b[0;34m)\u001b[0m\u001b[0;34m\u001b[0m\u001b[0;34m\u001b[0m\u001b[0m\n\u001b[0;32m--> 920\u001b[0;31m             \u001b[0;32mif\u001b[0m \u001b[0mpeek\u001b[0m \u001b[0;34m==\u001b[0m \u001b[0;34mb\"\"\u001b[0m \u001b[0;32mor\u001b[0m \u001b[0mpeek\u001b[0m \u001b[0;34m==\u001b[0m \u001b[0;36m0\u001b[0m\u001b[0;34m:\u001b[0m\u001b[0;34m\u001b[0m\u001b[0;34m\u001b[0m\u001b[0m\n\u001b[0m\u001b[1;32m    921\u001b[0m                 \u001b[0;32mbreak\u001b[0m\u001b[0;34m\u001b[0m\u001b[0;34m\u001b[0m\u001b[0m\n\u001b[1;32m    922\u001b[0m             \u001b[0mstream\u001b[0m\u001b[0;34m.\u001b[0m\u001b[0mseek\u001b[0m\u001b[0;34m(\u001b[0m\u001b[0;34m-\u001b[0m\u001b[0;36m1\u001b[0m\u001b[0;34m,\u001b[0m \u001b[0;36m1\u001b[0m\u001b[0;34m)\u001b[0m\u001b[0;34m\u001b[0m\u001b[0;34m\u001b[0m\u001b[0m\n",
      "\u001b[0;31mKeyboardInterrupt\u001b[0m: "
     ]
    }
   ],
   "source": [
    "import os\n",
    "import PyPDF2\n",
    "import re\n",
    "import csv\n",
    "\n",
    "# Define the directories for the input and output files\n",
    "pdf_dir = 'pdf_files'\n",
    "txt_dir = 'txt_files'\n",
    "csv_file = 'book_data.csv'\n",
    "data = []\n",
    "list1 = [\"IAmGratefulBook-FKB.pdf\",\n",
    "                      \"2212-GraciesGuidebookV2-FKB.pdf\",\n",
    "                      \"2212-GraciesGuidebookV2-FKB.pdf\",\n",
    "                      \"CKLA_G1_U4_RDR_web.pdf\",\"Tania-Tells-A-Story-Kanika-G-vs-2-FKB.pdf\",\n",
    "                      \"AmazingAkroozerFlyingMachines_FKB.pdf\",\"2211-The_Secret_Life_of_Things-FKB.pdf\",\n",
    "                      \"2211-catch-that-cat_en-FKB.pdf\",\"2303-Welcome_to_Cripley_Hollow-Picture_Book-FKB.pdf\",\n",
    "                      \"2210_HENRY_HOOTER-FKB.pdf\",\"More_Classic_Tales-CKLA_G3-FKB.pdf\",\n",
    "                      \"BodyChemistry_Grade3-5-iPOP-FKB.pdf\",\"Sneaky_And_Snoopy_PDF3.pdf\",\n",
    "                      \"Printable_Coloring_Pages_Inspirational_Older_Children-Peaksel-FKB.pdf\",\n",
    "                      \"Horse_Coloring_Pages_–_Printable_Coloring_Book_For_Kids-Peaksel-FKB.pdf\"\n",
    "                      ,\"Polar_Bears_in_the_Arctic-wordscientists-FKB.pdf\",\"IAmGratefulBook-FKB.pdf\",\n",
    "                      \"Fireworks-KG-FKB.pdf\",\"2302-ThanwangandBhalluka-FKB.pdf\",\n",
    "                      \"noaa_discover_your_changing_world-Climate-change-activity_book_FKB.pdf\",\n",
    "                      \"Tania_is_confused-FKB.pdf\",\"Rush-Music-Theory-fundamentals-set-FKB.pdf\",\n",
    "                      \"big_grammar_book-english_banana-FKB.pdf\",\"MyWildestImaginationJournal-Azpazaz-FKB.pdf\",\n",
    "                      \"I-want-to-be-a-baker-FKB-1.pdf\",\"FKB-Stories-thato-s-birthday-surprise.pdf\",\n",
    "                      \"FKB-Stories-thato-s-birthday-surprise.pdf\",\"Sahil-and-Samira.pdf\", \"Nursery-Rhymes-Fingerplays-and-Songs-for-Circle-Time.pdf\",\n",
    "                      \"Billy-Boy-comes-home-final-FKB.pdf\",\"2210-Ayrton-Senna-BF-FKB.pdf\",\n",
    "                      \"2301-Suicide-Help-WorkBook-for-youth-FKB.pdf\"\n",
    "                      ,\"Polar_Bears_in_the_Arctic-wordscientists-FKB.pdf\",\"Tanias-Midnight-Adventure-Kanika-G.pdf\",\n",
    "                      \"2304-With_Love_Gaia-FKB.pdf\",\"Billy_Is_Nasty_To_Ant-James_Minter-FKB_comp.pdf\" ,\"2211-Mestro_Orpheus_book-FKB.pdf\",\"Billy-Wants-It-All-James-Minter-FKB.pdf\" ,\n",
    "                      \"Billy-Saves-The-Day-James-Minter-FKB.pdf\",\"FKB_Learn-Sight-Words-Print_friendly-Always_Be_Nice-VZ.pdf\",\n",
    "                                                \"helping-children-be-responsible-FKB.pdf\", \n",
    "                                                \"FKB-Stories-7-colours-of-a-rainbow-African-Storybook.pdf\",\n",
    "                                                \"The-Engineers-Where-does-Metal-come-from_FKB.pdf\",\n",
    "                                                \"sailing-ships-and-sinking-spoons_kids_ebook_storyweaver_fkb.pdf\",\n",
    "                                                \"FKB-Stories-the-tree.pdf\",\n",
    "                                                \"Beatrix-Potter-Johnny-Town-Mouse-PDF.pdf\",\n",
    "                                                \"hello_english_FKB.pdf\",\n",
    "                                                \"FKB-Stories-Ranger-Forester.pdf\",\n",
    "                                                \"The_Red_Panda-Wordscientists-FKB-CC-NC_compressed.pdf\",\n",
    "                                                \"Mauryas_Magical_Monsoon_Morning-Kanika_G-FKB.pdf\",\n",
    "                                                \"Chess_Wiki_FKB.pdf\",\n",
    "                                                \"FKB-Stories-DOROTHY-THE-DANCING-DOUGHNUT-Boodlebobs-EP-02-By-JO-KEMP.pdf\",\n",
    "                                                \"Pepper_and_Carrot_Comic_Episode_02_FKB-v3.pdf\",\n",
    "                                                \"FKB-Stories-wild-cat-wild-cat-picturebook.pdf\",\n",
    "                                                \"music-fundamentals-Middle-grade_1-pitch-and-major-scales-and-keys-1.10_FKB.pdf\",\n",
    "                                                \"FKB-Stories-Cory_Doctorow_-_Little_Brother-YA-Scifi.pdf\",\n",
    "                                                \"understanding-basic-music-theory-3.74-for_highschool-FKB.pdf\",\n",
    "                                                \"Where-am-i-Pratham-FKB_stories.pdf\",\n",
    "                                                \"Dragon_Coloring_Pages_-_Printable_Coloring_Book_for_Kids_CC-BY-FKB.pdf\",\n",
    "                                                \"Beatrix-Potter-Jemima-Puddle-Duck_FKB.pdf\",\n",
    "                                                \"the-magic-letter-pratham-FKB.pdf\",\n",
    "                                                \"Trophy_Hunting_David_Revoy-FKB.pdf\",\n",
    "                                                \"FKB-Stories-The-jealousy-germ_Maria-Chatzi.pdf\",\n",
    "                                                \"11-Popsicle-Stick-Crafts-for-Kids-free-eBook-FKB.pdf\"]\n",
    "# Create the output directory if it doesn't already exist\n",
    "if not os.path.exists(txt_dir):\n",
    "    os.makedirs(txt_dir)\n",
    "\n",
    "# Loop through all the PDF files in the input directory\n",
    "for filename in os.listdir(pdf_dir):\n",
    "  if filename not in list1 : #and filename not in [les noms des fichiers pdf à supprimer ]\n",
    "                                               \n",
    "    if filename.endswith('.pdf'):\n",
    "        pdf_path = os.path.join(pdf_dir, filename)\n",
    "        txt_path = os.path.join(txt_dir, os.path.splitext(filename)[0] + '.txt')\n",
    "        \n",
    "        try:\n",
    "            with open(pdf_path, 'rb') as pdf_file:\n",
    "                \n",
    "                # Create a PDF reader object\n",
    "                pdf_reader = PyPDF2.PdfReader(pdf_file)\n",
    "                \n",
    "                # Extract the text from each page except the first one\n",
    "                text = []\n",
    "                for page_num in range(1, len(pdf_reader.pages)):\n",
    "                    page = pdf_reader.pages[page_num]\n",
    "                    page_text = page.extract_text().replace('\\n', ' ')\n",
    "                    \n",
    "                    # Remove the header if it exists\n",
    "                    if page_text.startswith('Header Text'):\n",
    "                        page_text = re.sub(r'^\\s*[A-Za-z]+\\s+\\d+\\s*[A-Za-z]*\\s*', '', page_text)\n",
    "                    \n",
    "                    # Remove the page numbers if they exist in the text\n",
    "                    if page_text:\n",
    "                        page_text = re.sub(r'^\\d+\\s*|\\s+\\d+\\s*$', '', page_text)\n",
    "                    \n",
    "                    # Don't convert the page if it contains \"Copyright\", \"Edition\", or links\n",
    "                    if not re.search(r'Copyright|Edition|http|www|CONTENTS|Contents|contents|copyright', page_text):\n",
    "                        text.append(page_text)\n",
    "                        \n",
    "            \n",
    "                # Combine the text from all pages into a single string\n",
    "                text = ''.join(text)\n",
    "                # Check if the text is empty, contains only whitespace, or contains the character '\\x01'\n",
    "                if len(text.strip()) == 0 or '\\x01' in text or text.count(\"©2022\") > 5:\n",
    "                    continue  # Skip adding the file to data if text is invalid\n",
    "                # Write the text to the output file\n",
    "                with open(txt_path, 'w') as txt_file:\n",
    "                    txt_file.write(text)\n",
    "\n",
    "                \n",
    "                  \n",
    "                # Add the file name and text to the data list\n",
    "                data.append({'filename': filename, 'text': text})\n",
    "                \n",
    "        except Exception:\n",
    "            print(f\"Warning: could not read PDF file '{pdf_path}'\")\n",
    "    \n"
   ]
  },
  {
   "cell_type": "code",
   "execution_count": 19,
   "metadata": {
    "id": "PbOBbAmoHR5Y"
   },
   "outputs": [],
   "source": [
    "csv_file = open('output.csv', 'w', newline='')\n",
    "with csv_file:\n",
    "    writer = csv.writer(csv_file, escapechar='\\\\')\n",
    "    # Write the header row\n",
    "    writer.writerow(['filename', 'text'])\n",
    "    \n",
    "    # Write the data rows\n",
    "    for item in data:\n",
    "        writer.writerow([item['filename'], item['text']])\n"
   ]
  },
  {
   "cell_type": "code",
   "execution_count": null,
   "metadata": {
    "id": "vrh00Xn5yvO5"
   },
   "outputs": [],
   "source": [
    "#ne pas executer\n",
    "summaries = {\"2210-billy_boy-terry.greenwell-FKB.pdf\":\"The story is about Billy Boy, a sheepdog born on a farm in England. Billy was one of three pups born on the farm and had two brothers named Thor and Loki. While his brothers grew to be broad, lean, muscular, and ideal Sheep Dogs, Billy grew into a more delicate figure, making him less threatening. Billy was unable to develop the unique ability known as THE EYE, which good Sheep Dogs possess, and could freeze any other animal in place just by locking eyes with it. Despite his best efforts, he was unable to bring this ability to the surface. Billy decided to stop trying to be a Sheep Dog and enjoy his time on the farm with his many friends. He framed his life in a way that suited him and decided to find his Happy Place. Eventually, he saw two teenagers playing with their pet dog and realized he wanted to be a pet with a snuggly bed, a comfy spot on the sofa, and light daytime duties entertaining the kids. Billy planned his daring escape, waited for the right moment, and made his move when Zane, a truck driver who always made a fuss of him, arrived at the farm.\",\n",
    "    \"202209-The-Little-Blue-Bird-FKB.pdf\": \"The story is about a boy named Pat who, while playing baseball, finds a little blue bird with a broken wing. Pat decides to take care of the bird and name her Blue. With the help of his father, Pat builds a bird cage and takes care of Blue until she is healed and can fly again. After some time, Blue lays five eggs, and Pat is excited to watch the baby birds hatch and grow. Unfortunately, Blue catches a viral bird flu and dies, but her partner, Sky, takes care of their babies, and Pat is happy to see them grow.\",\n",
    "    \"Kahani_koala_book.pdf\": \"The text is about koala bears, which are marsupials that have a pouch for carrying their young. Koalas give birth to a joey, which weighs half a gram and stays in its mother's pouch for seven months. At six months, the joey starts eating excreted pulpy eucalyptus leaves called pap prepared by their mother. Koalas are unique because they eat eucalyptus leaves, which are poisonous to most animals. They sleep for 18-22 hours a day and eat 500 grams of eucalyptus leaves every day. Koalas have strong arms, powerful legs, and sharp claws. The biggest threat to koalas is habitat loss due to human activity, including cutting down large chunks of forests. They can also get injured or killed by predators, such as dogs or during forest fires. Koalas also suffer from a disease called chlamydia, which causes painful eye infections, blindness, bladder infections, and infertility. However, a new vaccine is being tested to prevent koalas from getting chlamydia or reduce the severity of the disease. To conserve koalas, it is important to care for them, especially those that are sick, lost or injured, and nurse them back to health. The Bee family in Queensland owns the Magnetic Island Koala Hospital, where they take care of sick or injured koalas and nurse them back to health.\",\n",
    "    \"Every-minute-counts-FKB.pdf\": \"This book is about a boy named Adil who is always late to school. His friend Paro decides to help him find out where he is losing time, and they account for every minute of Adil's morning routine. They discover that Adil is taking 75 minutes to get ready and walk to school, instead of the one hour he thought he had. Paro suggests that Adil wakes up 15 minutes earlier to make it to school on time, and Adil agrees. The book emphasizes the importance of being punctual and the value of time. It is a Level 3 book for children who are ready to read on their own, published by Pratham Books.\",\n",
    "    \"TheGreenChicken_en-FKB.pdf\":\"The story begins with a mother hen sitting on two eggs, and a strange egg rolls into the nest. All three eggs hatch at the same time, and the strange chicken is named Chop, who is mocked by all the animals for his green and scaly appearance. Despite this, Chop tries to do everything his brothers do and wishes to become a normal chicken. One night, a fox sneaks into the farm and grabs Chick and Chip. Chop bravely confronts the fox and saves his siblings and mother. After this, all the chickens gather around him and invite him to play football with them. Chop finally feels like a real chicken.\",\n",
    "    \"Kittens_FKB.pdf\": \"The text describes different scenarios involving kittens, such as playing with puppies, resting on a pillow, hiding in fear, sleeping in a bowl, sensing something, being licked by their mother, and climbing a tree. The kittens are depicted in various environments, such as in a soft pink blanket, outside in the grass, sitting in dirt, and being held by a person. The text emphasizes the cuteness and need for love that all kittens share.\"\n",
    "    \"dinosaurs-ucedu-FKB.pdf\":\"This document provides information about the age of the Earth, the time period during which dinosaurs lived, and the Mesozoic era, which is also known as the Age of Reptiles. It also explains some basic facts about dinosaurs, their physical characteristics, and how they became extinct. Additionally, it touches on topics such as the carbon dioxide levels in the air during the time of the dinosaurs and the importance of Earth's magnetosphere in sustaining life on the planet.\"\n",
    "    \"002-GINGER-THE-GIRAFFE-Free-Childrens-Book-By-Monkey-Pen_FKB.pdf\":\"This is a story about a giraffe named Ginger who lives in Kenya, Africa. One day, while eating her favorite leaves with other giraffes, Ginger hears her friend, Mickey the Monkey, who is hungry and tired. Ginger offers Mickey some leaves and learns that there is no food left in the savannah due to the long dry spell. Ginger decides to seek help from Leo the Lion, who suggests that all animals move closer to the forest. Ginger and Mickey inform all the animals, and they all decide to travel together towards the jungle. The story ends with Ginger and Mickey seeing all the animals waiting for them near Ginger's favorite trees to start their journey to the jungle. This story aims to teach children about the importance of helping others and working together to solve problems.\n",
    "    \"hygiene-helps-FKB.pdf\":\"This text about basic hygiene. It explains that germs, viruses, and bacteria are everywhere and can make you sick. It gives simple rules to follow to keep germs away, such as washing your hands, brushing your teeth, keeping your body clean, and covering your mouth when you cough or sneeze. The book also emphasizes the importance of eating healthily, exercising regularly, and getting enough sleep. It encourages children to practice good hygiene habits to stay healthy.\"\n",
    "    \"FKB_Learn-Sight-Words-Print_friendly-Dont_Be_a_Bully-VZ.pdf\":\"The text is about promoting positive behaviors and values in children, such as anti-bullying, anti-discrimination, sharing, caring, and kindness. It includes quotes and messages from different animal characters, and suggests activities and discussions to encourage children to follow these values and understand their importance. The text emphasizes the importance of treating others with respect, being inclusive, appreciating what we have, reducing waste, and contributing to charity. It also suggests using positive reinforcement to encourage children's good behavior and reflecting on past behaviors to improve in the future.\"\n",
    "    \"sani-and-suri-RTR-FKB.pdf\": \"The book about a girl named Sani who has a pet cat named Suri. One day, Sani comes back from school and cannot find Suri anywhere. While searching for Suri, Sani meets different types of cats, but none of them are Suri. Sani begins to cry, and then Suri hears her crying and comes to find her. The book is part of a digital platform called StoryWeaver, which aims to provide openly licensed multilingual stories for children around the world.\",\n",
    "    \"ESOTERIC-ERIC-FKB.pdf\": \"This is a story poem about a man named Esoteric Eric who has mastered the art of doing nothing and spends most of his time in a single room, meditating and contemplating. The narrator visits him in hopes of gaining his knowledge and insight, but Eric shares a simple message that wisdom can be found in observing nature and the dance of life. He reminds the narrator that they are the ones who must choose their own fate and encourages them to share this message before bidding them farewell. The poem leaves the reader with the idea of food for thought.\",\n",
    "    \n",
    "    \"2301-Our_Land-FKB.pdf\": \"The story is about a family of fish living in a lake that has been polluted by garbage. The fish have to carry umbrellas to protect themselves from the waste, but it causes problems when one of their friends gets trapped under a plastic bag. The father fish suggests they get help from the Swordfish, who refuses to help because he holds a grudge against the father crab. The fish children come up with a plan to free the trapped crab by pulling on the plastic bag, and they succeed. Later, the mother fish finds a bottle cap in Lady Oyster's mouth, causing everyone to laugh. The story highlights the dangers of pollution and the importance of working together to solve problems.\",\n",
    "    \"When-Siggy-FKB.pdf\":\"This is a heartwarming story about a dachshund puppy named Siggy who is waiting for his forever home. He is not like his siblings who play Rough and Tumble all day long; instead, he likes to watch the world outside. One day, a family with a little girl comes to look at the puppies, and the girl is immediately drawn to Siggy. She picks him up and holds him close, and Siggy feels a sense of belonging and love that he has never felt before. The family takes Siggy home, and he is happy to finally have a forever home where he can be loved and cherished.\",\n",
    "     \"Observer_Effect-A_Christmas_Story-3-FKB.pdf\": \"The story is about two brothers, Bradley and Jack, who are trying to catch Santa Claus. Bradley, who is a science enthusiast, has built a device that shocks them every time they close their eyes to prevent Santa from escaping. Bradley believes that Santa uses quantum mechanics to travel, which means he can only visit children when they are asleep and not looking. The brothers are determined to catch Santa and demand more toys before letting him go. However, Jack is less interested in the plan and more concerned about the pain caused by the shocking device.\",\n",
    "     \"The-Story-Of-Fighter-Planes-Kinara-Goyal.pdf\":\"This text provides a brief history of fighter planes, starting from the first propeller-powered plane created by the Wright Brothers in 1903, to the advanced fighter planes used today. The focus is on the use of fighter planes in wars, including World War 1 and World War 2, and specific battles such as the Battle of Britain and Operation Strangle. The text also briefly discusses different types of bombers and the importance of air superiority. The author also mentions the popular movie Top Gun and video games that feature fighter planes.\",\n",
    "\"2210-a-cat-for-santa-FKB.pdf\": \"The story begins with four kittens outside their home looking for their mittens. The Dark Fairy appears and turns into a butterfly, leading one of the kittens to fall into a well. The Sugar Plum Fairies rescue the kitten and offer her a home at the North Pole, where she meets Mrs. Claus and is named Iris. Iris becomes friends with Santa's dog, Fudge, and helps Mrs. Claus around the house. However, she is not always the best watch cat and falls asleep on the job, which leads to Jack Frost playing a trick on Mrs. Claus by hiding the ingredients for her brownies. Iris helps find the missing ingredients and saves the day. On Christmas Eve, Iris helps Santa load his sleigh and stands guard with her snowball canon.\",\n",
    "\"Wikijunior_Big_Book_of_Fun_Science_Experiments.pdf\": \"Oobleck is a non-Newtonian fluid that is sometimes a liquid and sometimes a solid. It is made by mixing cornstarch with water. To make Oobleck, you need about a cup of cornstarch and a cup and a half of water. Mix the cornstarch into the water until all the cornstarch is covered in water. If the mixture gets too dry, add a little more water.You can pick up Oobleck and squeeze it in your fist, and it will feel like a solid. When you open your hand and hold it over the bowl, the Oobleck becomes a liquid. You can also try floating a small object such as a plastic toy on the Oobleck.\",\n",
    "\"The-Friendly-Needle-Brandon-Green-FKB.pdf\":\"The story is about a boy named Jack who is nervous about getting his vaccination. He sees a poster of a needle with a friendly smile and it suddenly comes to life and introduces itself as Needle Ned. Needle Ned helps Jack understand that vaccines are important for protecting him against illnesses like COVID-19, just like how helmets, shoes, and gloves protect him in other situations. Jack realizes that getting vaccinated might hurt for a moment, but it is worth it to be able to do fun things like riding his bike, splashing in puddles, and building snowmen. With the help of Needle Ned, Jack feels brave and gets his vaccine without fear.\",\n",
    "\"punctuation-story-zehnya-FKB.pdf\":\"The text is a playful and creative introduction to the concept of punctuation, with different punctuation marks personified as characters in the narrator's house. Full stop (or Period) explains the importance of using periods to break up long sentences, while exclamation mark emphasizes how exclamation marks add excitement and emphasis to statements. Question mark teaches about using question marks to indicate questions, and comma explains how commas are used to separate ideas. Quotation marks are also briefly mentioned as a way to indicate dialogue. The text ends with a farewell from the narrator, Jordan, encouraging the reader to continue learning about punctuation.\",\n",
    "\n",
    "\n",
    "\n",
    "\n",
    "    \n",
    "    # Add more book summaries here as needed\n",
    "}"
   ]
  },
  {
   "cell_type": "code",
   "execution_count": null,
   "metadata": {
    "id": "ij9JC0U8wiBR"
   },
   "outputs": [],
   "source": [
    "#ne pas executer \n",
    "summaries2 = {\"Alif-blows-Bubbles-FKB-kids_book.pdf\":\"The text tells the story of Alfi, a boy blowing bubbles in a garden where two bees are trying to gather pollen. The bees become annoyed by the bubbles and decide to pop them with their stingers. As Alfi continues to blow bubbles, one becomes so big that it lifts him into the air. The bees, thinking Alfi is trying to steal their honey, fly up to confront him. They sit on the bubble to try and weigh it down, but instead it rises higher due to the warmth of the sun. The second bee goes to gather a cloud of bees to block the sun and cool down the bubble, causing it to sink to the ground and burst, covering Alfi in pollen. The bees collect the pollen and Alfi is left sitting in the flowers, reflecting on his adventure. The author also discusses their process of creating characters and stories.\",\n",
    "              \"FKB-Storiesfoxy-joxy-plays-a-trick_english.pdf\":\"The text is a short story about Foxy Joxy, a sly fox who sold watermelons for a high price, but when animals complained about the price, he scooped out the fruit and filled them with water, selling them for a cheap price. When the animals found out, they decided to teach Foxy Joxy a lesson by stuffing him inside an empty watermelon and playing football with it. Foxy Joxy learned his lesson and never cheated again.\",\n",
    "              \"Maya_fights_for_a_Cause_FKB.pdf\":\"The village of Madhavpur is located next to a wildlife sanctuary and is home to many animals, including the rare elephant bird. When a rich businessman plans to turn part of the village and jungle into a private wildlife resort, the villagers are concerned about losing their farms and homes. Ten-year-old Maya and the village English teacher work together to mobilize the villagers and send letters to the forest department and the Prime Minister's office. The efforts of the villagers are successful, and the construction plan is halted. Maya and the teacher are invited to New Delhi to be honored for their bravery and concern for the environment, making them national heroes.\",\n",
    "              \"FKB-Stories-Animals-in-the-City.pdf\":\"The text discusses how animals are not just found in zoos, but also in cities. It mentions different types of animals that can be found in urban areas such as pigeons, raccoons, moose, swans, horses, and elephants. The text concludes by posing a question to the reader about what animal they might see next in the city.\",\n",
    "              \"there-must-be-a-rainbow_pdf-ebook_FKB.pdf\":\"The book There Must Be a Rainbow tells the story of Jabulile, a curious and happy girl who lives in a village in the Kingdom of the Zulu. When a devastating storm hits the village and destroys everything, Jabulile remembers her father's wise words and encourages the villagers to see the storm as an opportunity for new beginnings. She reminds them that after every storm, there must be a rainbow. Eventually, a rainbow appears, and the villagers rebuild their homes and plant new crops, finding hope and happiness once again in the Valley.\",\n",
    "              \"FKB-Stories-a-cloud-of-trash.pdf\":\"The story A Cloud of Trash is about a girl named Cheekoo who littered and ended up with a cloud of trash over her head, causing her to become unhappy and friendless. She eventually learns the importance of not littering and starts picking up trash in her village, which leads to the cloud getting smaller and eventually disappearing\",\n",
    "              \"Supercow_Vol3-The_Reader-Oct2018.pdf\":\"The story starts with a little girl named Mia crying while clutching a large book. Supercow, who is relaxing in a field, hears her cries for help and approaches her. Supercow offers to read the book to her, and Mia is thrilled. The story ends with Supercow flying away to save the day, leaving Mia happy and content. The main theme of the story is the importance of reading and the joy it can bring to others.\",\n",
    "              \"FKB-Stories-the-cottonwool-doctor_english.pdf\":\"The story is about Margaret Ann Bulkly, who wanted to become a doctor but couldn't because it was not acceptable for girls to do so at that time. With the help of her uncle's friend, General Miranda, she disguised herself as a boy and studied medicine. She later joined the army as a doctor and was sent to Cape Town. Dr. James Barry fought for better living conditions and healthcare for the sick, including lepers who were banished to Robben Island. Dr. Barry also worked in war hospitals and met Florence Nightingale. Dr. James Barry traveled to 11 places around the world and only after death, people discovered that Dr. James Barry was actually a woman. The story shows that girls can be clever, brave, and become doctors.\",\n",
    "              \"Monkey-Adventures.pdf\":\"The text describes a baby monkey who wakes up from a nap and goes for a ride on her mother's back. They search for the baby monkey's siblings and watch them play on the rocks. The baby monkey's big sister pulls her brother's tail and they all engage in playtime, which includes tail pulling and face pushing. The mother monkey watches over them and knows they will be okay. Overall, the text portrays a playful and affectionate scene of a monkey family.\",\n",
    "              \"FKB-Stories-circles_en_FKB_childrens_story_about_death.pdf\":\"The story is about a young vulture who is taken by his mother to see the beauty in death. They find a dying gemsbok and the young vulture is disgusted. However, his mother tells him to wait and they return to find new life growing from the bones of the dead buck. The vulture's mother explains that death is not just about leaving behind a body but also leaving behind lessons, love, and memories. The young vulture learns that life can come from death and that he too will leave his mark on the earth.\",\n",
    "              \"FKB-Stories-costume-party.pdf\":\"This is a story about a kitty cat named Allie who loves to bake. She receives an invitation from the Mayor to attend a New Year's Eve party wearing a costume of her favorite animal. Allie is unsure of what to wear, but after seeing her friends with their unique features, she decides to be herself and dresses up as a cat. At the party, various animals dress up in costumes of other animals, and the animals explain why their unique features are important for their survival. In the end, the mouse dressed up as a hedgehog wins the grand prize, but the real hedgehog explains that it's not fair because the mouse doesn't have the same features as a hedgehog. The story promotes self-confidence and encourages people to be themselves.\",\n",
    "              \"Beatrix-Potter-Mrs-Tittlemouse-FKB.pdf\":\"The text you provided is an excerpt from The Tale of Mrs Tittlemouse, a children's book written and illustrated by Beatrix Potter. It tells the story of a wood-mouse named Mrs Tittlemouse who lives in a bank under a hedge and is very particular about keeping her house clean and tidy. Throughout the story, various animals visit her home and cause chaos, but Mrs Tittlemouse manages to handle each situation with her characteristic tidiness and good manners.\",\n",
    "              \"small-birds-big-adventure-bookdash-FKB.pdf\":\"The book tells the story of Small Bird, a small and birdy bird who lives with a kind Giant in a beautiful house. Small Bird loves the Giant and the toys she gives him, but he feels sad when the Giant is not around. So, he goes on a search for the Giant and travels through a forest, a snowfield, and even up to the stars. Finally, Small Bird lands in the Giant's hands and is happy to be reunited with her. The story highlights the love and bond between Small Bird and the Giant.\",\n",
    "              \"FKB-Stories-Mystic-Moon-Saves-the-Day-F-Meintjies.pdf\":\"The story is about a wolf named Mystic Moon who encountered two young lions in the Magaliesberg hills. The cubs were in danger, perched on a narrow ledge with a sheer rock-face below them. Mystic Moon heard a loud growl and saw that the adult lions were nearby. He tried to calm them down and offered to help the cubs. One of the cubs slipped and started to fall, so Mystic Moon quickly jumped across the crevice to a flat rock across and saved both cubs. He then led them down to safety, introducing himself as a wolf named Mystic Moon.\",\n",
    "              \"the-very-shocking-report-card-pratham-FKB-CC-BY.pdf\":\"The story is about a boy named Pattu and his report card. His previous report card was turned into a paper plane, so this time his father went with him to get the report card from his teacher. Unfortunately, Pattu did not do well in his exams and his father was disappointed. Along the way home, Pattu showed kindness to his friend by sharing his pencils and feeding some dogs. When they reached home, his father told his mother that Pattu's report card was a big shock. However, his father also acknowledged Pattu's good qualities, such as sharing, kindness, and respect. In the end, Pattu showed his mother his real report card, which was for being honest.\",\n",
    "              \"tine-and-the-faraway-mountain-pratham-FKB.pdf\":\"Tine Mena is a mountaineer from Northeast India who became the first woman from the region to climb Mount Everest at the age of 25. She grew up in the Mishmi hills of Arunachal Pradesh, where she developed a love for climbing and the outdoors. After finishing school, she applied to be a porter for an army expedition, but women were not allowed to be porters. She dressed as a boy and began working, carrying heavy loads every day until the officers discovered she was a girl. She was scolded but allowed to continue working because she was as good as the boys and knew the route better than anyone. Her act helped lift the ban on female porters. Tine later became a coordinator for mountain trips and met Dr. Romeo Meitei, the leader of an expedition who became her mentor. She began her training and saw The Race for Everest, a film about the first climb of Mount Everest, which made her dream of climbing the mountain. Tine left for Nepal to climb Mount Everest, despite bad weather and losing their tent and supplies. With her Sherpa guide, she reached the top of Mount Everest on May 9, 2011.\",\n",
    "              \"FKB-Stories-grandpa-farouks-garden-CC-picture-book.pdf\":\"The text is about a boy named Amir who visits his grandfather's garden every week. When his grandfather tells him that the garden is dying due to pests, Amir sets out to find ladybirds, which are natural predators of these pests. He collects ten ladybirds and brings them to his grandfather, who releases them into the garden. As a result, the ladybirds eat the pests and the garden flourishes.\",\n",
    "              \n",
    "              }"
   ]
  },
  {
   "cell_type": "code",
   "execution_count": null,
   "metadata": {},
   "outputs": [],
   "source": [
    "summaries3={ \"nom pdf\":\"summary généré par chatgpt\",\n",
    "           }"
   ]
  },
  {
   "cell_type": "markdown",
   "metadata": {
    "id": "oqCAft682VVR"
   },
   "source": []
  },
  {
   "cell_type": "code",
   "execution_count": null,
   "metadata": {
    "colab": {
     "base_uri": "https://localhost:8080/"
    },
    "id": "RblJBeS1-Jlc",
    "outputId": "94acdac1-f070-4b03-901e-4a90436e6805"
   },
   "outputs": [
    {
     "name": "stdout",
     "output_type": "stream",
     "text": [
      "Looking in indexes: https://pypi.org/simple, https://us-python.pkg.dev/colab-wheels/public/simple/\n",
      "\n",
      "Collecting PyPDF2\n",
      "\n",
      "  Downloading pypdf2-3.0.1-py3-none-any.whl (232 kB)\n",
      "\n",
      "\u001b[2K     \u001b[90m━━━━━━━━━━━━━━━━━━━━━━━━━━━━━━━━━━━━━━\u001b[0m \u001b[32m232.6/232.6 kB\u001b[0m \u001b[31m10.0 MB/s\u001b[0m eta \u001b[36m0:00:00\u001b[0m\n",
      "\n",
      "\u001b[?25hInstalling collected packages: PyPDF2\n",
      "\n",
      "Successfully installed PyPDF2-3.0.1\n"
     ]
    }
   ],
   "source": [
    "!pip install PyPDF2"
   ]
  }
 ],
 "metadata": {
  "colab": {
   "provenance": []
  },
  "kernelspec": {
   "display_name": "Python 3 (ipykernel)",
   "language": "python",
   "name": "python3"
  },
  "language_info": {
   "codemirror_mode": {
    "name": "ipython",
    "version": 3
   },
   "file_extension": ".py",
   "mimetype": "text/x-python",
   "name": "python",
   "nbconvert_exporter": "python",
   "pygments_lexer": "ipython3",
   "version": "3.10.7"
  }
 },
 "nbformat": 4,
 "nbformat_minor": 4
}
